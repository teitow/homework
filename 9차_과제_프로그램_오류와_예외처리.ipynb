{
  "cells": [
    {
      "cell_type": "markdown",
      "id": "63ac596b",
      "metadata": {
        "id": "63ac596b"
      },
      "source": [
        "# (실습) 프로그램 오류와 예외처리"
      ]
    },
    {
      "cell_type": "markdown",
      "id": "6e605100",
      "metadata": {
        "id": "6e605100"
      },
      "source": [
        "**참고 사항**\n",
        "\n",
        "먼저\n",
        "[프로그램 오류와 예외 처리](https://codingalzi.github.io/pybook/exception_handling.html)의 내용과\n",
        "[(필수 예제) 프로그램 오류와 예외 처리](https://colab.research.google.com/github/codingalzi/pybook/blob/master/examples/examples-exception_handling.ipynb)의 예제들을 학습하세요."
      ]
    },
    {
      "cell_type": "markdown",
      "id": "10fa79ea",
      "metadata": {
        "id": "10fa79ea"
      },
      "source": [
        "## 문제 1"
      ]
    },
    {
      "cell_type": "markdown",
      "id": "67d3914a",
      "metadata": {
        "id": "67d3914a"
      },
      "source": [
        "아래 명령문들을 실행해서 발생하는 오류의 종류와 원인을\n",
        "아래 형식의 예외 처리를 이용하여 설명하라.\n",
        "\n",
        "```python\n",
        "try:\n",
        "    명령문1\n",
        "except 오류종류 as err:\n",
        "    print(f\"(오류 설명) 오류종류: {err}\")\n",
        "```\n",
        "\n",
        "위 코드의 `명령문1`을 실행할 때 `오류종류`에 해당하는 오류가 발생하면\n",
        "`err`은 오류가 발생한 이유를 설명하는 문자열이 지정된다.\n",
        "따라서 오류의 발생원인을 담은 문장이 화면에 출력된다.\n",
        "\n",
        "반면에 `SyntaxError`, `IndentationError` 등은 프로그램을 실행하기 전에 발견되는\n",
        "오류이기에 `try-except` 명령문을 사용할 의미가 없다.\n",
        "이런 경우엔 오류의 원인을 찾아 제거하라."
      ]
    },
    {
      "cell_type": "markdown",
      "id": "2c8cb05b",
      "metadata": {
        "id": "2c8cb05b"
      },
      "source": [
        "**코드 1**"
      ]
    },
    {
      "cell_type": "code",
      "execution_count": 29,
      "id": "197cdf74",
      "metadata": {
        "id": "197cdf74",
        "outputId": "07207e71-b607-4326-96f6-57a793b6b106",
        "colab": {
          "base_uri": "https://localhost:8080/",
          "height": 149
        }
      },
      "outputs": [
        {
          "output_type": "error",
          "ename": "TypeError",
          "evalue": "can only concatenate str (not \"int\") to str",
          "traceback": [
            "\u001b[0;31m---------------------------------------------------------------------------\u001b[0m",
            "\u001b[0;31mTypeError\u001b[0m                                 Traceback (most recent call last)",
            "\u001b[0;32m<ipython-input-29-c073484680d8>\u001b[0m in \u001b[0;36m<cell line: 1>\u001b[0;34m()\u001b[0m\n\u001b[0;32m----> 1\u001b[0;31m \u001b[0my\u001b[0m \u001b[0;34m=\u001b[0m \u001b[0;34m\"2\"\u001b[0m \u001b[0;34m+\u001b[0m \u001b[0;36m2\u001b[0m\u001b[0;34m\u001b[0m\u001b[0;34m\u001b[0m\u001b[0m\n\u001b[0m",
            "\u001b[0;31mTypeError\u001b[0m: can only concatenate str (not \"int\") to str"
          ]
        }
      ],
      "source": [
        "y = \"2\" + 2"
      ]
    },
    {
      "cell_type": "markdown",
      "id": "784c89cd",
      "metadata": {
        "id": "784c89cd"
      },
      "source": [
        "**답**"
      ]
    },
    {
      "cell_type": "markdown",
      "id": "a99b8892",
      "metadata": {
        "id": "a99b8892"
      },
      "source": [
        "*실행 결과 설명*\n",
        "\n",
        "...TypeError가 발생한다. 문자열 \"2\"와 정수 2의 덧셈 연산은 불가능하다. 같은 데이터 타입끼리만 연산 가능하다."
      ]
    },
    {
      "cell_type": "code",
      "execution_count": 30,
      "id": "27ef565f",
      "metadata": {
        "id": "27ef565f",
        "colab": {
          "base_uri": "https://localhost:8080/"
        },
        "outputId": "2c7f43e8-6865-4bdb-f659-bce05e2ce1f0"
      },
      "outputs": [
        {
          "output_type": "stream",
          "name": "stdout",
          "text": [
            "(오류 설명) 오류 종류: can only concatenate str (not \"int\") to str\n"
          ]
        }
      ],
      "source": [
        "try:\n",
        "    y = \"2\" + 2\n",
        "except TypeError as err:\n",
        "    print(f\"(오류 설명) 오류 종류: {err}\")\n"
      ]
    },
    {
      "cell_type": "markdown",
      "id": "e3b0698b",
      "metadata": {
        "id": "e3b0698b"
      },
      "source": [
        "**코드 2**"
      ]
    },
    {
      "cell_type": "code",
      "execution_count": 31,
      "id": "7129dea7",
      "metadata": {
        "id": "7129dea7",
        "outputId": "a5a25638-f552-42d4-9e72-78155f49c5ad",
        "colab": {
          "base_uri": "https://localhost:8080/",
          "height": 168
        }
      },
      "outputs": [
        {
          "output_type": "error",
          "ename": "IndexError",
          "evalue": "string index out of range",
          "traceback": [
            "\u001b[0;31m---------------------------------------------------------------------------\u001b[0m",
            "\u001b[0;31mIndexError\u001b[0m                                Traceback (most recent call last)",
            "\u001b[0;32m<ipython-input-31-9bc12a551069>\u001b[0m in \u001b[0;36m<cell line: 2>\u001b[0;34m()\u001b[0m\n\u001b[1;32m      1\u001b[0m \u001b[0mhello\u001b[0m \u001b[0;34m=\u001b[0m \u001b[0;34m\"파이썬, 안녕!\"\u001b[0m\u001b[0;34m\u001b[0m\u001b[0;34m\u001b[0m\u001b[0m\n\u001b[0;32m----> 2\u001b[0;31m \u001b[0mout_of_range\u001b[0m \u001b[0;34m=\u001b[0m \u001b[0mhello\u001b[0m\u001b[0;34m[\u001b[0m\u001b[0;34m-\u001b[0m\u001b[0;36m10\u001b[0m\u001b[0;34m]\u001b[0m\u001b[0;34m\u001b[0m\u001b[0;34m\u001b[0m\u001b[0m\n\u001b[0m",
            "\u001b[0;31mIndexError\u001b[0m: string index out of range"
          ]
        }
      ],
      "source": [
        "hello = \"파이썬, 안녕!\"\n",
        "out_of_range = hello[-10]"
      ]
    },
    {
      "cell_type": "markdown",
      "id": "288ac7bd",
      "metadata": {
        "id": "288ac7bd"
      },
      "source": [
        "**답**"
      ]
    },
    {
      "cell_type": "markdown",
      "id": "e3d96c55",
      "metadata": {
        "id": "e3d96c55"
      },
      "source": [
        "*실행 결과 설명*\n",
        "\n",
        "...IndexError가 발생한다. 문자열의 인덱스 범위를 벗어난 위치에 접근하려 하기 때문이다. 이 문자열은 8자리 길이이기 때문에 인덱스 -10은 존재하지 않는다."
      ]
    },
    {
      "cell_type": "code",
      "execution_count": null,
      "id": "518e084e",
      "metadata": {
        "id": "518e084e"
      },
      "outputs": [],
      "source": [
        "try:\n",
        "    hello = \"파이썬, 안녕!\"\n",
        "    out_of_range = hello[-10]\n",
        "except IndexError as err:\n",
        "    print(f\"(오류 설명) 오류 종류: {err}\")\n",
        "\n"
      ]
    },
    {
      "cell_type": "markdown",
      "id": "ced6a4ea",
      "metadata": {
        "id": "ced6a4ea"
      },
      "source": [
        "**코드 3**"
      ]
    },
    {
      "cell_type": "code",
      "execution_count": null,
      "id": "af1aaabe",
      "metadata": {
        "id": "af1aaabe"
      },
      "outputs": [],
      "source": [
        "x = 5\n",
        "\n",
        "while x % 2 != 0\n",
        "    x = 3*x - 1\n",
        "    print(x)"
      ]
    },
    {
      "cell_type": "markdown",
      "id": "29b6b5ca",
      "metadata": {
        "id": "29b6b5ca"
      },
      "source": [
        "**답**"
      ]
    },
    {
      "cell_type": "markdown",
      "id": "f688f814",
      "metadata": {
        "id": "f688f814"
      },
      "source": [
        "*실행 결과 설명*\n",
        "\n",
        "... SyntaxError는 실행 중이 아니라 코드를 파싱하는 단계에서 발견된다. while 루프 후에 콜론(:)이 누락되어 있으며, 이는 프로그램을 실행하기 전에 수정해야 한다."
      ]
    },
    {
      "cell_type": "code",
      "execution_count": null,
      "id": "2671e5c9",
      "metadata": {
        "id": "2671e5c9"
      },
      "outputs": [],
      "source": [
        "x = 5\n",
        "\n",
        "try:\n",
        "    while x % 2 != 0\n",
        "        x = 3*x - 1\n",
        "        print(x)\n",
        "except SyntaxError as err:\n",
        "    print(f\"(오류 설명) SyntaxError: {err}\")"
      ]
    },
    {
      "cell_type": "code",
      "source": [
        "x = 5\n",
        "\n",
        "while x % 2 != 0:\n",
        "    x = 3*x - 1\n",
        "    print(x)"
      ],
      "metadata": {
        "id": "X_4NLtqH4jqV"
      },
      "id": "X_4NLtqH4jqV",
      "execution_count": null,
      "outputs": []
    },
    {
      "cell_type": "markdown",
      "id": "23cb829c",
      "metadata": {
        "id": "23cb829c"
      },
      "source": [
        "**코드 4**"
      ]
    },
    {
      "cell_type": "code",
      "execution_count": null,
      "id": "9da8039f",
      "metadata": {
        "id": "9da8039f"
      },
      "outputs": [],
      "source": [
        "x = 4\n",
        "\n",
        "while x % 2 != 0:\n",
        "x = 3*x - 1\n",
        "    print(x)\n",
        "\n",
        "print(x, \": 짝수\")"
      ]
    },
    {
      "cell_type": "markdown",
      "id": "54aa5723",
      "metadata": {
        "id": "54aa5723"
      },
      "source": [
        "**답**"
      ]
    },
    {
      "cell_type": "markdown",
      "id": "53612590",
      "metadata": {
        "id": "53612590"
      },
      "source": [
        "*실행 결과 설명*\n",
        "\n",
        "...IndentationError가 발생한다. while 루프 내부 코드가 적절하게 들여쓰기되지 않았기 때문이다. 위와 마찬가지로 프로그래밍이 실행되기 전에 수정해야한다"
      ]
    },
    {
      "cell_type": "code",
      "execution_count": 32,
      "id": "2cceef71",
      "metadata": {
        "id": "2cceef71",
        "colab": {
          "base_uri": "https://localhost:8080/"
        },
        "outputId": "7654b7fd-3939-4a08-b961-3c40add88d4f"
      },
      "outputs": [
        {
          "output_type": "stream",
          "name": "stdout",
          "text": [
            "4 : 짝수\n"
          ]
        }
      ],
      "source": [
        "x = 4\n",
        "\n",
        "try:\n",
        "    while x % 2 != 0:\n",
        "        x = 3 * x - 1\n",
        "        print(x)\n",
        "    print(x, \": 짝수\")\n",
        "except IndentationError as err:\n",
        "    print(f\"(오류 설명) 오류 종류: {err}\")\n"
      ]
    },
    {
      "cell_type": "markdown",
      "id": "bb855012",
      "metadata": {
        "id": "bb855012"
      },
      "source": [
        "## 문제 2"
      ]
    },
    {
      "cell_type": "markdown",
      "id": "0315d002",
      "metadata": {
        "id": "0315d002"
      },
      "source": [
        "아래처럼 출력을 하는 코드를 구현하려 한다."
      ]
    },
    {
      "cell_type": "markdown",
      "id": "7153f493",
      "metadata": {
        "id": "7153f493"
      },
      "source": [
        "```\n",
        "        *\n",
        "      * * *\n",
        "    * * * * *\n",
        "  * * * * * * *\n",
        "* * * * * * * * *\n",
        "  * * * * * * *\n",
        "    * * * * *\n",
        "      * * *\n",
        "        *\n",
        "```\n"
      ]
    },
    {
      "cell_type": "markdown",
      "id": "08f338f2",
      "metadata": {
        "id": "08f338f2"
      },
      "source": [
        "그런데 아래 코드를 실행하면 원하는 모양이 출력되지 않는다."
      ]
    },
    {
      "cell_type": "code",
      "execution_count": 33,
      "id": "516ced0e",
      "metadata": {
        "id": "516ced0e",
        "outputId": "fbe09d48-1b6d-4443-b933-db262f124755",
        "colab": {
          "base_uri": "https://localhost:8080/"
        }
      },
      "outputs": [
        {
          "output_type": "stream",
          "name": "stdout",
          "text": [
            "        * \n",
            "      * * \n",
            "    * * * \n",
            "  * * * * \n",
            "* * * * * \n",
            "  * * * * \n",
            "    * * * \n",
            "      * * \n",
            "        * \n"
          ]
        }
      ],
      "source": [
        "for num in range(1, 10):\n",
        "    if num <= 5:\n",
        "        stars = num\n",
        "        spaces = 5 - num\n",
        "    else:\n",
        "        stars = 10 - num\n",
        "        spaces = num - 5\n",
        "\n",
        "    print(\"  \" * spaces + \"* \" * stars)"
      ]
    },
    {
      "cell_type": "markdown",
      "id": "af100d1b",
      "metadata": {
        "id": "af100d1b"
      },
      "source": [
        "위 코드에 포함된 한 줄의 명령문만 수정하면 의도한 대로 모양이 출력된다.\n",
        "어느 행의 명령문을 어떻게 수정해야 하는지 설명하고 수정한 뒤에 실행해서 확인하라."
      ]
    },
    {
      "cell_type": "markdown",
      "id": "9325f170",
      "metadata": {
        "id": "9325f170"
      },
      "source": [
        "**답**"
      ]
    },
    {
      "cell_type": "markdown",
      "id": "fd6c3960",
      "metadata": {
        "id": "fd6c3960"
      },
      "source": [
        "*코드 수정 내용 설명*\n",
        "\n",
        "...코드에서 별의 개수를 출력하는 방식에 문제가 있다. stars 변수에 담긴 값은 해당 줄에 출력될 별표 개수를 나타낸다. 원하는 출력은 해당 줄에서 삼각형 모양으로 별을 출력해야 하기 때문에, stars 변수를 기준으로 (2 * stars - 1)만큼의 별을 출력해야 한다."
      ]
    },
    {
      "cell_type": "code",
      "execution_count": 34,
      "id": "a904ccf6",
      "metadata": {
        "id": "a904ccf6",
        "colab": {
          "base_uri": "https://localhost:8080/"
        },
        "outputId": "ecd50fc4-8365-4f40-aa91-e830dff66c68"
      },
      "outputs": [
        {
          "output_type": "stream",
          "name": "stdout",
          "text": [
            "        * \n",
            "      * * * \n",
            "    * * * * * \n",
            "  * * * * * * * \n",
            "* * * * * * * * * \n",
            "  * * * * * * * \n",
            "    * * * * * \n",
            "      * * * \n",
            "        * \n"
          ]
        }
      ],
      "source": [
        "for num in range(1, 10):\n",
        "    if num <= 5:\n",
        "        stars = num\n",
        "        spaces = 5 - num\n",
        "    else:\n",
        "        stars = 10 - num\n",
        "        spaces = num - 5\n",
        "\n",
        "    print(\"  \" * spaces + \"* \" * (2 * stars -1))"
      ]
    },
    {
      "cell_type": "markdown",
      "id": "8bcd32f9",
      "metadata": {
        "id": "8bcd32f9"
      },
      "source": [
        "## 문제 3"
      ]
    },
    {
      "cell_type": "markdown",
      "id": "143420fa",
      "metadata": {
        "id": "143420fa"
      },
      "source": [
        "아래처럼 출력하는 코드를 구현하려 한다."
      ]
    },
    {
      "cell_type": "markdown",
      "id": "7a3bba40",
      "metadata": {
        "id": "7a3bba40"
      },
      "source": [
        "```python\n",
        "[0, 1]\n",
        "[0, 3]\n",
        "[1, 1]\n",
        "[1, 3]\n",
        "[2, 3]\n",
        "[3, 3]\n",
        "```"
      ]
    },
    {
      "cell_type": "markdown",
      "id": "a6a0464a",
      "metadata": {
        "id": "a6a0464a"
      },
      "source": [
        "그런데 아래 코드를 실행하면 원하는 모양이 출력되지 않는다."
      ]
    },
    {
      "cell_type": "code",
      "execution_count": 35,
      "id": "31f6e9af",
      "metadata": {
        "id": "31f6e9af",
        "outputId": "f7478a03-2203-46b4-d235-bc8991c75421",
        "colab": {
          "base_uri": "https://localhost:8080/"
        }
      },
      "outputs": [
        {
          "output_type": "stream",
          "name": "stdout",
          "text": [
            "[0, 0]\n",
            "[0, 1]\n",
            "[0, 2]\n",
            "[0, 3]\n",
            "[1, 1]\n",
            "[1, 2]\n",
            "[1, 3]\n",
            "[2, 2]\n",
            "[2, 3]\n",
            "[3, 3]\n"
          ]
        }
      ],
      "source": [
        "for i in range(4):\n",
        "    for j in range(4):\n",
        "        if j < i:\n",
        "            continue\n",
        "        print([i, j])"
      ]
    },
    {
      "cell_type": "markdown",
      "id": "f22c0602",
      "metadata": {
        "id": "f22c0602"
      },
      "source": [
        "위 코드에 포함된 한 줄의 명령문만 수정하여 원하는 모양이 출력되도록 하라."
      ]
    },
    {
      "cell_type": "markdown",
      "id": "164df308",
      "metadata": {
        "id": "164df308"
      },
      "source": [
        "**답**"
      ]
    },
    {
      "cell_type": "markdown",
      "id": "ac0fc76e",
      "metadata": {
        "id": "ac0fc76e"
      },
      "source": [
        "*코드 수정 내용 설명*\n",
        "\n",
        "... 위 코드는 i와 j가 0부터 3까지 변할 때 j < i 인 경우 모두 건너뜀.\n",
        "그런데 j >= i가 참이어도 j 가 짝수인 경우는 건너뛰어야 함.\n",
        "따라서 j % 2 == 0 인 경우도 or 연산자로 추가해야 함."
      ]
    },
    {
      "cell_type": "code",
      "execution_count": 36,
      "id": "a747231c",
      "metadata": {
        "id": "a747231c",
        "colab": {
          "base_uri": "https://localhost:8080/"
        },
        "outputId": "79507be6-abef-4243-9e8c-64b4d62b08fe"
      },
      "outputs": [
        {
          "output_type": "stream",
          "name": "stdout",
          "text": [
            "[0, 1]\n",
            "[0, 3]\n",
            "[1, 1]\n",
            "[1, 3]\n",
            "[2, 3]\n",
            "[3, 3]\n"
          ]
        }
      ],
      "source": [
        "for i in range(4):\n",
        "    for j in range(4):\n",
        "        if j < i or j % 2 == 0:\n",
        "            continue\n",
        "        print([i, j])"
      ]
    },
    {
      "cell_type": "markdown",
      "id": "b6ef5ff8",
      "metadata": {
        "id": "b6ef5ff8"
      },
      "source": [
        "## 문제 4"
      ]
    },
    {
      "cell_type": "markdown",
      "id": "e59f42d6",
      "metadata": {
        "id": "e59f42d6"
      },
      "source": [
        "문자열을 인자로 입력받을 때\n",
        "정수 형식이면 해당 정수가 10부터 100까지의 정수 중에 하나인지 여부를 출력하고,\n",
        "정수 형식이 아니면 입력된 문자열의 길이를 반환하는 함수 `whether_int()`를\n",
        "예외 처리를 이용하여 구현하라.\n",
        "\n",
        "힌트: 문자열의 길이는 `len()` 함수가 계산한다."
      ]
    },
    {
      "cell_type": "markdown",
      "id": "171dbfd7",
      "metadata": {
        "id": "171dbfd7"
      },
      "source": [
        "**답**"
      ]
    },
    {
      "cell_type": "code",
      "execution_count": 37,
      "id": "8e190afe",
      "metadata": {
        "id": "8e190afe"
      },
      "outputs": [],
      "source": [
        "def whether_int(x):\n",
        "    try:\n",
        "        num = int(x)\n",
        "        if 10 <= num <= 100:\n",
        "            print(f\"{num}: 10부터 100 사이의 정수입니다.\")\n",
        "        else:\n",
        "            print(f\"{num}: 10부터 100 사이의 정수가 아닙니다.\")\n",
        "    except ValueError:\n",
        "        print(f\"문자열의 길이: {len(x)}\")\n"
      ]
    },
    {
      "cell_type": "markdown",
      "id": "0f3234b9",
      "metadata": {
        "id": "0f3234b9"
      },
      "source": [
        "아래 코드를 실행시켜보세요."
      ]
    },
    {
      "cell_type": "code",
      "execution_count": 38,
      "id": "bc5837f9",
      "metadata": {
        "id": "bc5837f9",
        "colab": {
          "base_uri": "https://localhost:8080/"
        },
        "outputId": "45679f31-7f73-4f09-f9a4-d4f62945c6b7"
      },
      "outputs": [
        {
          "output_type": "stream",
          "name": "stdout",
          "text": [
            "50: 10부터 100 사이의 정수입니다.\n"
          ]
        }
      ],
      "source": [
        "whether_int(\"50\")"
      ]
    },
    {
      "cell_type": "code",
      "execution_count": 39,
      "id": "81dbda13",
      "metadata": {
        "id": "81dbda13",
        "colab": {
          "base_uri": "https://localhost:8080/"
        },
        "outputId": "8ef0cf26-1a47-477c-c915-ed1f574c20a0"
      },
      "outputs": [
        {
          "output_type": "stream",
          "name": "stdout",
          "text": [
            "130: 10부터 100 사이의 정수가 아닙니다.\n"
          ]
        }
      ],
      "source": [
        "whether_int(\"130\")"
      ]
    },
    {
      "cell_type": "code",
      "execution_count": 40,
      "id": "548c75f5",
      "metadata": {
        "id": "548c75f5",
        "colab": {
          "base_uri": "https://localhost:8080/"
        },
        "outputId": "d6a5c996-c4df-47fa-c5ec-5ef9e5f77453"
      },
      "outputs": [
        {
          "output_type": "stream",
          "name": "stdout",
          "text": [
            "7: 10부터 100 사이의 정수가 아닙니다.\n"
          ]
        }
      ],
      "source": [
        "whether_int(7.77)"
      ]
    },
    {
      "cell_type": "code",
      "execution_count": 41,
      "id": "bc558cd7",
      "metadata": {
        "id": "bc558cd7",
        "colab": {
          "base_uri": "https://localhost:8080/"
        },
        "outputId": "3e214015-33c0-4646-e333-912f1afef92e"
      },
      "outputs": [
        {
          "output_type": "stream",
          "name": "stdout",
          "text": [
            "문자열의 길이: 7\n"
          ]
        }
      ],
      "source": [
        "whether_int(\"abcdefg\")"
      ]
    },
    {
      "cell_type": "markdown",
      "id": "0241ef8e",
      "metadata": {
        "id": "0241ef8e"
      },
      "source": [
        "## 문제 5"
      ]
    },
    {
      "cell_type": "markdown",
      "id": "f3bbdcbb",
      "metadata": {
        "id": "f3bbdcbb"
      },
      "source": [
        "두 개의 정수 `a`, `b`를 입력받아 `a/b`를 계산한 결과를 출력하는 코드를 작성하라.\n",
        "단, 아래 조건이 만족되어야 한다.\n",
        "\n",
        "* 정수가 아닌 값이 입력되거나 `b`에 `0`이 입력된 경우 아래 문장을 출력한 후 재입력 요구.\n",
        "* 올바른 값이 입력될 때까지 재입력을 요구하며, 올바른 값이 입력되면 나눗셈을 실행하고 종료할 것.\n",
        "\n",
        "힌트: `input()` 함수, `while True` 무한루프 반복문, `break` 명령문,\n",
        "`try-except (ValueError, ZeroDivisionError)` 명령문 등 활용."
      ]
    },
    {
      "cell_type": "markdown",
      "id": "cdd4b1b6",
      "metadata": {
        "id": "cdd4b1b6"
      },
      "source": [
        "**답**"
      ]
    },
    {
      "cell_type": "code",
      "execution_count": 42,
      "id": "b1c98e1f",
      "metadata": {
        "id": "b1c98e1f",
        "colab": {
          "base_uri": "https://localhost:8080/"
        },
        "outputId": "699f1312-270f-4d18-e641-6bb337a869fa"
      },
      "outputs": [
        {
          "output_type": "stream",
          "name": "stdout",
          "text": [
            "첫 번째 정수를 입력하세요: 3\n",
            "두 번째 정수를 입력하세요: 0\n",
            "두 번째 정수는 0일 수 없습니다.\n",
            "첫 번째 정수를 입력하세요: 3\n",
            "두 번째 정수를 입력하세요: 8\n",
            "3/8 = 0.375\n"
          ]
        }
      ],
      "source": [
        "while True:\n",
        "    try:\n",
        "        a = int(input(\"첫 번째 정수를 입력하세요: \"))\n",
        "        b = int(input(\"두 번째 정수를 입력하세요: \"))\n",
        "        if b == 0:\n",
        "            raise ZeroDivisionError(\"두 번째 정수는 0일 수 없습니다.\")\n",
        "        print(f\"{a}/{b} = {a/b}\")\n",
        "        break\n",
        "    except ValueError:\n",
        "        print(\"올바른 정수를 입력하세요.\")\n",
        "    except ZeroDivisionError as err:\n",
        "        print(err)\n"
      ]
    },
    {
      "cell_type": "markdown",
      "id": "c4f5c216",
      "metadata": {
        "id": "c4f5c216"
      },
      "source": [
        "## 문제 6"
      ]
    },
    {
      "cell_type": "markdown",
      "id": "5ac64d1f",
      "metadata": {
        "id": "5ac64d1f"
      },
      "source": [
        "숫자 야구 게임은 임의로 정한 세 자리의 수를 참여자가 맞히는 게임이며 규칙은 다음과 같다.\n",
        "\n",
        "- 첫째, 1에서 9 사이의 서로 다른 숫자로 이루어진 세 자리 정수를 입력한다.\n",
        "- 둘째, 세 자리 숫자를 정확하게 맞혔으면 `'홈런'`을 출력한다.\n",
        "- 셋째, 세 자리수를 정확하게 맞히지 못했다면\n",
        "    참여자가 입력한 수가 맞혀야 하는 세 자리 수와 어떻게 다른지 여부에 따라\n",
        "    참여자에게 아래 규칙에 따른 결과를 출력한다.\n",
        "    \n",
        "    * 숫자와 위치가 맞으면, 스트라이크\n",
        "    * 숫자는 맞지만 위치가 틀리면, 볼\n",
        "    * 숫자와 위치가 모두 틀리면, 아웃  \n",
        "\n",
        "예를 들어, 맞혀야 하는 수가 123일 때 다음과 같이 출력한다.\n",
        "\n",
        "- 참여자가 123을 입력할 때: `'홈런'`\n",
        "- 참여자가 456을 입력할 때: `'아웃'`\n",
        "- 참여자가 257을 입력할 때: `'1 볼'`\n",
        "- 참여자가 273을 입력할 때: `'1 볼 1 스트라이크'`"
      ]
    },
    {
      "cell_type": "markdown",
      "id": "7d2dfdc5",
      "metadata": {
        "id": "7d2dfdc5"
      },
      "source": [
        "아래 코드는 숫자 야구 게임을 실행한다.\n",
        "임의의 세 자리 수가 지정되었을 때 사용자의 입력값이 정수가 아니면 세 자리 정수를 다시 입력하도록 요구한다."
      ]
    },
    {
      "cell_type": "code",
      "execution_count": 43,
      "id": "84b583d5",
      "metadata": {
        "id": "84b583d5",
        "outputId": "f1244ccd-5a32-491d-da32-1055494b4e85",
        "colab": {
          "base_uri": "https://localhost:8080/"
        }
      },
      "outputs": [
        {
          "output_type": "stream",
          "name": "stdout",
          "text": [
            "1에서 9사이의 서로 다른 숫자로 구성된 세자리 정수를 입력하세요: 1234\n",
            "홈런\n"
          ]
        }
      ],
      "source": [
        "import random\n",
        "\n",
        "# 서로 다른 세 개의 수로 구성된 세 자리 정수 생성. 0을 포함하지 않음.\n",
        "answer = ''\n",
        "while len(answer) < 3:\n",
        "    num = str(random.randint(1, 9))\n",
        "    if num in answer:\n",
        "        continue\n",
        "\n",
        "    answer += num\n",
        "\n",
        "# 게임 실행\n",
        "while True:\n",
        "    guess = input('1에서 9사이의 서로 다른 숫자로 구성된 세자리 정수를 입력하세요: ')\n",
        "    try:\n",
        "        int(guess)\n",
        "    except ValueError:\n",
        "        continue\n",
        "\n",
        "    ball = 0\n",
        "    strike = 0\n",
        "\n",
        "    for i in range(3):\n",
        "        if answer[i] == guess[i]:\n",
        "            strike += 1\n",
        "        elif guess[i] in answer:\n",
        "            ball += 1\n",
        "\n",
        "    if strike == 3:\n",
        "        print('홈런')\n",
        "    elif strike == 0:\n",
        "        if ball == 0:\n",
        "            print('아웃')\n",
        "        else:\n",
        "            print(ball, '볼')\n",
        "    else:\n",
        "        if ball == 0:\n",
        "            print(strike, '스트라이크')\n",
        "        else:\n",
        "            print(ball, '볼', strike, '스트라이크')\n",
        "\n",
        "    break"
      ]
    },
    {
      "cell_type": "markdown",
      "id": "9b5818bc",
      "metadata": {
        "id": "9b5818bc"
      },
      "source": [
        "위 코드는 그런데 네 자리 이상의 수를 입력해도 오류 없이 실행된다."
      ]
    },
    {
      "cell_type": "code",
      "execution_count": 44,
      "id": "377cd1d1",
      "metadata": {
        "id": "377cd1d1",
        "outputId": "9d78fca4-7354-4b18-9305-30e6729b56a4",
        "colab": {
          "base_uri": "https://localhost:8080/"
        }
      },
      "outputs": [
        {
          "output_type": "stream",
          "name": "stdout",
          "text": [
            "1에서 9사이의 서로 다른 숫자로 구성된 세자리 정수를 입력하세요: 456\n",
            "2 볼\n"
          ]
        }
      ],
      "source": [
        "import random\n",
        "\n",
        "# 서로 다른 세 개의 수로 구성된 세 자리 정수 생성. 0을 포함하지 않음.\n",
        "answer = ''\n",
        "while len(answer) < 3:\n",
        "    num = str(random.randint(1, 9))\n",
        "    if num in answer:\n",
        "        continue\n",
        "\n",
        "    answer += num\n",
        "\n",
        "# 게임 실행\n",
        "while True:\n",
        "    guess = input('1에서 9사이의 서로 다른 숫자로 구성된 세자리 정수를 입력하세요: ')\n",
        "    try:\n",
        "        int(guess)\n",
        "    except ValueError:\n",
        "        continue\n",
        "\n",
        "    ball = 0\n",
        "    strike = 0\n",
        "\n",
        "    for i in range(3):\n",
        "        if answer[i] == guess[i]:\n",
        "            strike += 1\n",
        "        elif guess[i] in answer:\n",
        "            ball += 1\n",
        "\n",
        "    if strike == 3:\n",
        "        print('홈런')\n",
        "    elif strike == 0:\n",
        "        if ball == 0:\n",
        "            print('아웃')\n",
        "        else:\n",
        "            print(ball, '볼')\n",
        "    else:\n",
        "        if ball == 0:\n",
        "            print(strike, '스트라이크')\n",
        "        else:\n",
        "            print(ball, '볼', strike, '스트라이크')\n",
        "\n",
        "    break"
      ]
    },
    {
      "cell_type": "markdown",
      "id": "a47ae80f",
      "metadata": {
        "id": "a47ae80f"
      },
      "source": [
        "반면에 세 자리 미만의 정수를 입력하면 오류가 발생한다."
      ]
    },
    {
      "cell_type": "code",
      "execution_count": 45,
      "id": "c834a6bf",
      "metadata": {
        "id": "c834a6bf",
        "outputId": "96936942-6a4a-4522-83ed-020ac1da67a2",
        "colab": {
          "base_uri": "https://localhost:8080/"
        }
      },
      "outputs": [
        {
          "output_type": "stream",
          "name": "stdout",
          "text": [
            "1에서 9사이의 서로 다른 숫자로 구성된 세자리 정수를 입력하세요: 7899\n",
            "1 스트라이크\n"
          ]
        }
      ],
      "source": [
        "import random\n",
        "\n",
        "# 서로 다른 세 개의 수로 구성된 세 자리 정수 생성. 0을 포함하지 않음.\n",
        "answer = ''\n",
        "while len(answer) < 3:\n",
        "    num = str(random.randint(1, 9))\n",
        "    if num in answer:\n",
        "        continue\n",
        "\n",
        "    answer += num\n",
        "\n",
        "# 게임 실행\n",
        "while True:\n",
        "    guess = input('1에서 9사이의 서로 다른 숫자로 구성된 세자리 정수를 입력하세요: ')\n",
        "    try:\n",
        "        int(guess)\n",
        "    except ValueError:\n",
        "        continue\n",
        "\n",
        "    ball = 0\n",
        "    strike = 0\n",
        "\n",
        "    for i in range(3):\n",
        "        if answer[i] == guess[i]:\n",
        "            strike += 1\n",
        "        elif guess[i] in answer:\n",
        "            ball += 1\n",
        "\n",
        "    if strike == 3:\n",
        "        print('홈런')\n",
        "    elif strike == 0:\n",
        "        if ball == 0:\n",
        "            print('아웃')\n",
        "        else:\n",
        "            print(ball, '볼')\n",
        "    else:\n",
        "        if ball == 0:\n",
        "            print(strike, '스트라이크')\n",
        "        else:\n",
        "            print(ball, '볼', strike, '스트라이크')\n",
        "\n",
        "    break"
      ]
    },
    {
      "cell_type": "markdown",
      "id": "7f13fa61",
      "metadata": {
        "id": "7f13fa61"
      },
      "source": [
        "**질문 1**"
      ]
    },
    {
      "cell_type": "markdown",
      "id": "93f907c9",
      "metadata": {
        "id": "93f907c9"
      },
      "source": [
        "세 자리 미만의 수를 입력했을 때 오류가 발생하는 이유를 설명하라.\n",
        "\n",
        "\n"
      ]
    },
    {
      "cell_type": "markdown",
      "id": "219982d5",
      "metadata": {
        "id": "219982d5"
      },
      "source": [
        "**답**"
      ]
    },
    {
      "cell_type": "markdown",
      "id": "24e003a1",
      "metadata": {
        "id": "24e003a1"
      },
      "source": [
        "*오류 설명*\n",
        "\n",
        "... 세 자리 미만의 수를 입력했을 때 오류가 발생하는 이유는, for 루프를 이용하여 3개의 숫자와 비교할 때 IndexError가 발생하기 때문이다. 입력된 수가 3자리 미만이라면 인덱스 접근을 시도할 때 존재하지 않는 인덱스에 접근하려 하기 때문에 오류가 발생한다.\n"
      ]
    },
    {
      "cell_type": "markdown",
      "id": "db669ae9",
      "metadata": {
        "id": "db669ae9"
      },
      "source": [
        "**질문 2**"
      ]
    },
    {
      "cell_type": "markdown",
      "id": "704208db",
      "metadata": {
        "id": "704208db"
      },
      "source": [
        "세 자리 미만 또는 네 자리 이상의 수를 입력했을 때 정확히 세 자리 수를 재입력하도록 위 코드를 수정하라.\n",
        "\n",
        "힌트: `assert` 명령문과 `try ... except AssertionError` 명령문"
      ]
    },
    {
      "cell_type": "markdown",
      "id": "1af11285",
      "metadata": {
        "id": "1af11285"
      },
      "source": [
        "참고로 `assert` 명령문은 논리식과 함께 사용되며 논리식이\n",
        "참이면 그냥 통과되지만 거짓일 때는 오류를 발생시킨다."
      ]
    },
    {
      "cell_type": "markdown",
      "id": "216bf849",
      "metadata": {
        "id": "216bf849"
      },
      "source": [
        "- 무사 통과"
      ]
    },
    {
      "cell_type": "code",
      "execution_count": 46,
      "id": "86c83fca",
      "metadata": {
        "id": "86c83fca",
        "outputId": "8ca88965-fc4d-4be0-f337-367f1c9c3496",
        "colab": {
          "base_uri": "https://localhost:8080/"
        }
      },
      "outputs": [
        {
          "output_type": "stream",
          "name": "stdout",
          "text": [
            "통과됨\n"
          ]
        }
      ],
      "source": [
        "assert 3 == 1 + 2\n",
        "print(\"통과됨\")"
      ]
    },
    {
      "cell_type": "markdown",
      "id": "2333ee83",
      "metadata": {
        "id": "2333ee83"
      },
      "source": [
        "- 오류 발생"
      ]
    },
    {
      "cell_type": "code",
      "execution_count": 48,
      "id": "94aecef9",
      "metadata": {
        "id": "94aecef9",
        "outputId": "b82a8e59-2b5a-4b95-e0b2-49ccd1ac95ad",
        "colab": {
          "base_uri": "https://localhost:8080/",
          "height": 149
        }
      },
      "outputs": [
        {
          "output_type": "error",
          "ename": "AssertionError",
          "evalue": "",
          "traceback": [
            "\u001b[0;31m---------------------------------------------------------------------------\u001b[0m",
            "\u001b[0;31mAssertionError\u001b[0m                            Traceback (most recent call last)",
            "\u001b[0;32m<ipython-input-48-8c0f6058a347>\u001b[0m in \u001b[0;36m<cell line: 1>\u001b[0;34m()\u001b[0m\n\u001b[0;32m----> 1\u001b[0;31m \u001b[0;32massert\u001b[0m \u001b[0;36m3\u001b[0m \u001b[0;34m==\u001b[0m \u001b[0;36m1\u001b[0m \u001b[0;34m-\u001b[0m \u001b[0;36m2\u001b[0m\u001b[0;34m\u001b[0m\u001b[0;34m\u001b[0m\u001b[0m\n\u001b[0m",
            "\u001b[0;31mAssertionError\u001b[0m: "
          ]
        }
      ],
      "source": [
        "assert 3 == 1 - 2"
      ]
    },
    {
      "cell_type": "markdown",
      "id": "0d9bba04",
      "metadata": {
        "id": "0d9bba04"
      },
      "source": [
        "**답**"
      ]
    },
    {
      "cell_type": "code",
      "execution_count": 50,
      "id": "236ece69",
      "metadata": {
        "id": "236ece69",
        "colab": {
          "base_uri": "https://localhost:8080/"
        },
        "outputId": "4d388a66-83ef-46cb-8a76-ed44957d6a1c"
      },
      "outputs": [
        {
          "output_type": "stream",
          "name": "stdout",
          "text": [
            "1에서 9사이의 서로 다른 숫자로 구성된 세자리 정수를 입력하세요: 1234\n",
            "1에서 9사이의 서로 다른 숫자로 구성된 세자리 정수를 입력하세요: 45664\n",
            "1에서 9사이의 서로 다른 숫자로 구성된 세자리 정수를 입력하세요: 123\n",
            "1 볼\n"
          ]
        }
      ],
      "source": [
        "import random\n",
        "\n",
        "# 서로 다른 세 개의 수로 구성된 세 자리 정수 생성. 0을 포함하지 않음.\n",
        "answer = ''\n",
        "while len(answer) < 3:\n",
        "    num = str(random.randint(1, 9))\n",
        "    if num in answer:\n",
        "        continue\n",
        "\n",
        "    answer += num\n",
        "\n",
        "# 게임 실행\n",
        "while True:\n",
        "    guess = input('1에서 9사이의 서로 다른 숫자로 구성된 세자리 정수를 입력하세요: ')\n",
        "    try:\n",
        "        int(guess)\n",
        "    except ValueError:\n",
        "        continue\n",
        "\n",
        "    # 세 자리 수가 아닌 경우 재입력 요구\n",
        "    try:\n",
        "        assert len(guess) == 3\n",
        "    except AssertionError:\n",
        "        continue\n",
        "\n",
        "    ball = 0\n",
        "    strike = 0\n",
        "\n",
        "    for i in range(3):\n",
        "        if answer[i] == guess[i]:\n",
        "            strike += 1\n",
        "        elif guess[i] in answer:\n",
        "            ball += 1\n",
        "\n",
        "    if strike == 3:\n",
        "        print('홈런')\n",
        "    elif strike == 0:\n",
        "        if ball == 0:\n",
        "            print('아웃')\n",
        "        else:\n",
        "            print(ball, '볼')\n",
        "    else:\n",
        "        if ball == 0:\n",
        "            print(strike, '스트라이크')\n",
        "        else:\n",
        "            print(ball, '볼', strike, '스트라이크')\n",
        "\n",
        "    break"
      ]
    },
    {
      "cell_type": "markdown",
      "id": "279e6172",
      "metadata": {
        "id": "279e6172"
      },
      "source": [
        "## 문제 7"
      ]
    },
    {
      "cell_type": "markdown",
      "id": "1d9e5efa",
      "metadata": {
        "id": "1d9e5efa"
      },
      "source": [
        "아래 코드는 실행될 때마다 1과 100까지의 정수 중에서 임의로 정해진 값을 할당받는 `secret` 변수가\n",
        "가리키는 값을 맞히는 게임이다."
      ]
    },
    {
      "cell_type": "code",
      "execution_count": 51,
      "id": "f1e9ea56",
      "metadata": {
        "id": "f1e9ea56",
        "outputId": "7a8113cf-3220-44f0-c993-59923062faf3",
        "colab": {
          "base_uri": "https://localhost:8080/"
        }
      },
      "outputs": [
        {
          "output_type": "stream",
          "name": "stdout",
          "text": [
            "수 알아맞히기 게임에 환영합니다.\n",
            "1부터 100 사이의 정수 하나를 입력하세요: 13\n",
            "너무 작아요!\n",
            "1부터 100 사이의 정수 하나를 입력하세요: 5555\n",
            "너무 커요!\n",
            "1부터 100 사이의 정수 하나를 입력하세요: 55\n",
            "너무 커요!\n",
            "1부터 100 사이의 정수 하나를 입력하세요: 32\n",
            "너무 작아요!\n",
            "1부터 100 사이의 정수 하나를 입력하세요: 42\n",
            "너무 작아요!\n",
            "1부터 100 사이의 정수 하나를 입력하세요: 48\n",
            "너무 커요!\n",
            "1부터 100 사이의 정수 하나를 입력하세요: 44\n",
            "너무 작아요!\n",
            "1부터 100 사이의 정수 하나를 입력하세요: 46\n",
            "너무 작아요!\n",
            "1부터 100 사이의 정수 하나를 입력하세요: 47\n",
            "맞았습니다!\n",
            "게임 종료!\n"
          ]
        }
      ],
      "source": [
        "from random import randint\n",
        "\n",
        "print(\"수 알아맞히기 게임에 환영합니다.\")\n",
        "\n",
        "secret = randint(1, 100)\n",
        "guess = -1   # 이어지는 while 반복문이 최소 한 번은 실행되도록 함\n",
        "\n",
        "while guess != secret:\n",
        "    guess = int(input(\"1부터 100 사이의 정수 하나를 입력하세요: \"))\n",
        "\n",
        "    if guess == secret:\n",
        "        print(\"맞았습니다!\")\n",
        "    elif guess > secret:\n",
        "        print(\"너무 커요!\")\n",
        "    else:\n",
        "        print(\"너무 작아요!\")\n",
        "\n",
        "print(\"게임 종료!\")"
      ]
    },
    {
      "cell_type": "markdown",
      "id": "065f7e32",
      "metadata": {
        "id": "065f7e32"
      },
      "source": [
        "**질문 1**"
      ]
    },
    {
      "cell_type": "markdown",
      "id": "1a4a28b3",
      "metadata": {
        "id": "1a4a28b3"
      },
      "source": [
        "위 코드를 수정하여 정수 입력이 아니거나\n",
        "정수이더라도 1부터 100 사이의 정수가 아니면 재입력을 요구하도록 이전 질문의 코드를 수정하라.\n",
        "\n",
        "힌트: `assert` 명령문과 `try ... except AssertionError` 명령문"
      ]
    },
    {
      "cell_type": "markdown",
      "id": "916ba6db",
      "metadata": {
        "id": "916ba6db"
      },
      "source": [
        "**답**"
      ]
    },
    {
      "cell_type": "code",
      "execution_count": 52,
      "id": "123603ae",
      "metadata": {
        "id": "123603ae",
        "colab": {
          "base_uri": "https://localhost:8080/"
        },
        "outputId": "447c7033-706f-450c-b917-95ac4e989c50"
      },
      "outputs": [
        {
          "output_type": "stream",
          "name": "stdout",
          "text": [
            "수 알아맞히기 게임에 환영합니다.\n",
            "1부터 100 사이의 정수 하나를 입력하세요: 1234\n",
            "1부터 100 사이의 정수만 입력하세요.\n",
            "1부터 100 사이의 정수 하나를 입력하세요: 11\n",
            "너무 작아요!\n",
            "1부터 100 사이의 정수 하나를 입력하세요: 55\n",
            "너무 커요!\n",
            "1부터 100 사이의 정수 하나를 입력하세요: 33\n",
            "너무 커요!\n",
            "1부터 100 사이의 정수 하나를 입력하세요: 22\n",
            "너무 커요!\n",
            "1부터 100 사이의 정수 하나를 입력하세요: 18\n",
            "너무 커요!\n",
            "1부터 100 사이의 정수 하나를 입력하세요: 15\n",
            "너무 작아요!\n",
            "1부터 100 사이의 정수 하나를 입력하세요: 16\n",
            "너무 작아요!\n",
            "1부터 100 사이의 정수 하나를 입력하세요: 17\n",
            "맞았습니다!\n",
            "게임 종료!\n"
          ]
        }
      ],
      "source": [
        "from random import randint\n",
        "\n",
        "print(\"수 알아맞히기 게임에 환영합니다.\")\n",
        "\n",
        "secret = randint(1, 100)\n",
        "guess = -1   # 이어지는 while 반복문이 최소 한 번은 실행되도록 함\n",
        "\n",
        "while guess != secret:\n",
        "    try:\n",
        "        guess_input = input(\"1부터 100 사이의 정수 하나를 입력하세요: \")\n",
        "        guess = int(guess_input)\n",
        "        assert 1 <= guess <= 100, \"1부터 100 사이의 정수만 입력하세요.\"\n",
        "    except ValueError:\n",
        "        print(\"올바른 정수를 입력하세요.\")\n",
        "    except AssertionError as err:\n",
        "        print(err)\n",
        "        continue\n",
        "\n",
        "    if guess == secret:\n",
        "        print(\"맞았습니다!\")\n",
        "    elif guess > secret:\n",
        "        print(\"너무 커요!\")\n",
        "    else:\n",
        "        print(\"너무 작아요!\")\n",
        "\n",
        "print(\"게임 종료!\")\n"
      ]
    },
    {
      "cell_type": "markdown",
      "id": "c5d09b72",
      "metadata": {
        "id": "c5d09b72"
      },
      "source": [
        "**질문 2**"
      ]
    },
    {
      "cell_type": "markdown",
      "id": "f6dcc5e6",
      "metadata": {
        "id": "f6dcc5e6"
      },
      "source": [
        "\"수 알아맞히기 게임\"이 실행중에 사용자가\n",
        "영어 알파벳 `q` 또는 `Q` 를 입력하면 게임이 종료되도록 이전 질문의 답으로 사용된 코드를 수정하라."
      ]
    },
    {
      "cell_type": "markdown",
      "id": "5a84856d",
      "metadata": {
        "id": "5a84856d"
      },
      "source": [
        "**답**"
      ]
    },
    {
      "cell_type": "code",
      "execution_count": 56,
      "id": "fdba26f8",
      "metadata": {
        "id": "fdba26f8",
        "colab": {
          "base_uri": "https://localhost:8080/"
        },
        "outputId": "46537483-a489-4006-c5f0-9159930e762f"
      },
      "outputs": [
        {
          "output_type": "stream",
          "name": "stdout",
          "text": [
            "수 알아맞히기 게임에 환영합니다.\n",
            "1부터 100 사이의 정수 하나를 입력하세요 (게임을 종료하려면 'q' 또는 'Q'를 입력하세요): Q\n",
            "게임을 종료합니다.\n",
            "게임 종료!\n"
          ]
        }
      ],
      "source": [
        "from random import randint\n",
        "\n",
        "print(\"수 알아맞히기 게임에 환영합니다.\")\n",
        "\n",
        "secret = randint(1, 100)\n",
        "guess = -1   # 이어지는 while 반복문이 최소 한 번은 실행되도록 함\n",
        "\n",
        "while guess != secret:\n",
        "    try:\n",
        "        guess_input = input(\"1부터 100 사이의 정수 하나를 입력하세요 (게임을 종료하려면 'q' 또는 'Q'를 입력하세요): \")\n",
        "        if guess_input.lower() == 'q':\n",
        "            print(\"게임을 종료합니다.\")\n",
        "            break\n",
        "        guess = int(guess_input)\n",
        "        assert 1 <= guess <= 100, \"1부터 100 사이의 정수만 입력하세요.\"\n",
        "    except ValueError:\n",
        "        print(\"올바른 정수를 입력하세요.\")\n",
        "    except AssertionError as err:\n",
        "        print(err)\n",
        "        continue\n",
        "\n",
        "    if guess == secret:\n",
        "        print(\"맞았습니다!\")\n",
        "    elif guess > secret:\n",
        "        print(\"너무 커요!\")\n",
        "    else:\n",
        "        print(\"너무 작아요!\")\n",
        "\n",
        "print(\"게임 종료!\")\n"
      ]
    }
  ],
  "metadata": {
    "colab": {
      "provenance": []
    },
    "kernelspec": {
      "display_name": "Python 3 (ipykernel)",
      "language": "python",
      "name": "python3"
    },
    "language_info": {
      "codemirror_mode": {
        "name": "ipython",
        "version": 3
      },
      "file_extension": ".py",
      "mimetype": "text/x-python",
      "name": "python",
      "nbconvert_exporter": "python",
      "pygments_lexer": "ipython3",
      "version": "3.11.4"
    }
  },
  "nbformat": 4,
  "nbformat_minor": 5
}